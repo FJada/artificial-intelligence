{
  "cells": [
    {
      "cell_type": "markdown",
      "metadata": {
        "id": "view-in-github",
        "colab_type": "text"
      },
      "source": [
        "<a href=\"https://colab.research.google.com/github/FJada/artificial-intelligence/blob/main/Jada_F_take_at_home.ipynb\" target=\"_parent\"><img src=\"https://colab.research.google.com/assets/colab-badge.svg\" alt=\"Open In Colab\"/></a>"
      ]
    },
    {
      "cell_type": "markdown",
      "metadata": {
        "id": "XalqjzJDo17x"
      },
      "source": [
        "# Midterm - Spring 2023\n",
        "\n",
        "## Problem 1: Take-at-home  (45 points total)\n",
        "\n",
        "You are applying for a position at the data science team of USDA and you are given data associated with determining appropriate parasite treatment of canines. The suggested treatment options are determined based on a **logistic regression** model that predicts if the canine is infected with a parasite. \n",
        "\n",
        "The data is given in the site: https://data.world/ehales/grls-parasite-study/workspace/file?filename=CBC_data.csv  and more specifically in the CBC_data.csv file. Login using you University Google account to access the data and the description that includes a paper on the study (**you dont need to read the paper to solve this problem**). Your target variable $y$ column is titled `parasite_status`. \n",
        "\n",
        "\n"
      ]
    },
    {
      "cell_type": "markdown",
      "metadata": {
        "id": "RKmFza06o172"
      },
      "source": [
        "### Question 1 - Feature Engineering (5 points)\n",
        "\n",
        "Write the posterior probability expressions for logistic regression for the problem you are given to solve."
      ]
    },
    {
      "cell_type": "markdown",
      "metadata": {
        "id": "HTfuGJGio172"
      },
      "source": [
        "$$p(y=1| \\mathbf{x}, \\mathbf w)=$$ \n",
        "\n",
        "$$p(y=0| \\mathbf{x}, \\mathbf w)=$$ "
      ]
    },
    {
      "cell_type": "markdown",
      "source": [
        "p(y=1| x,w) = 1/(1+exp(-𝐱⋅𝐰))\n",
        "\n",
        "p(y=0| x,w) = 1 - p(y=1| x,w) = 1 - (1/(1+exp(-𝐱⋅𝐰)))\n"
      ],
      "metadata": {
        "id": "kj-pgn9rfaB0"
      }
    },
    {
      "cell_type": "markdown",
      "metadata": {
        "id": "hOSXj4Xro173"
      },
      "source": [
        "\n",
        "\n",
        "### Question 2 - Decision Boundary (5 points)\n",
        "\n",
        "Write the expression for the decision boundary assuming that $p(y=1)=p(y=0)$. The decision boundary is the line that separates the two classes.\n",
        "\n",
        "\n",
        "\n"
      ]
    },
    {
      "cell_type": "markdown",
      "source": [],
      "metadata": {
        "id": "YFglaW9vgDcv"
      }
    },
    {
      "cell_type": "markdown",
      "metadata": {
        "id": "LyB2YIUdo174"
      },
      "source": [
        "\n",
        "\n",
        "### Question 3 - Loss function (5 points)\n",
        "\n",
        "Write the expression of the loss as a function of $\\mathbf w$ that makes sense for you to use in this problem. \n",
        "\n",
        "NOTE: The loss will be a function that will include this function: \n",
        "\n",
        "$$\\sigma(a) = \\frac{1}{1+e^{-a}}$$\n",
        "\n"
      ]
    },
    {
      "cell_type": "markdown",
      "metadata": {
        "id": "0b09cZQAo174"
      },
      "source": [
        "$$L_{CE} = $$"
      ]
    },
    {
      "cell_type": "markdown",
      "source": [
        "L_CE =-1/N (SUM( y* log(p(𝐱,𝐰)) (1-y)* log( 1 - p(𝐱,𝐰) ))\n",
        "\n",
        "=-1/N (SUM( y* log(𝜎(𝐱⋅𝐰)) (1-y)* log( 1 - 𝜎(𝐱⋅𝐰) ))"
      ],
      "metadata": {
        "id": "QqLnZ5j5hwzR"
      }
    },
    {
      "cell_type": "markdown",
      "metadata": {
        "id": "eMRT0-DBo175"
      },
      "source": [
        "\n",
        "### Question 4 - Gradient (5 points)\n",
        "\n",
        "Write the expression of the gradient of the loss with respect to the parameters - show all your work.\n",
        "\n"
      ]
    },
    {
      "cell_type": "markdown",
      "metadata": {
        "id": "XJZZqvTfo175"
      },
      "source": [
        "$$ \\nabla_\\mathbf w L_{CE} = $$"
      ]
    },
    {
      "cell_type": "markdown",
      "source": [
        "∇𝐰𝐿_𝐶𝐸= -1/N * (SUM( (𝑦 - 𝜎(𝐱⋅𝐰)) * 𝜎(𝐱⋅𝐰) * (1 - 𝜎(𝐱⋅𝐰)) * 𝐱))"
      ],
      "metadata": {
        "id": "24WGbu5shyDd"
      }
    },
    {
      "cell_type": "markdown",
      "metadata": {
        "id": "Di6axyjKo176"
      },
      "source": [
        "### Question 5 - Imbalanced dataset (10 points)\n",
        "\n",
        "You are now told that in the dataset  \n",
        "\n",
        "$$p(y=0) >> p(y=1)$$\n",
        "\n",
        "Can you comment if the accuracy of Logistic Regression will be affected by such imbalance?\n",
        "\n"
      ]
    },
    {
      "cell_type": "markdown",
      "metadata": {
        "id": "wKtMLKPKo176"
      },
      "source": [
        "This means that in the dataset, the predicted probability of there being canines that are parasite free is significantly higher than the probability of canines that are not parasite free. This results in the accuracy of the Logistic Regression model to be lower because its showing that the model is biased against data that shows canines with parasites. It means that the predictor variables in the data are showing a correlation with being parasite free or positive for parasites."
      ]
    },
    {
      "cell_type": "markdown",
      "metadata": {
        "id": "z2XDTbTso177"
      },
      "source": [
        "\n",
        "### Question 6 - SGD (15 points)\n",
        "\n",
        "The interviewer was impressed with your answers and wants to test your programming skills. \n",
        "\n",
        "1. Use the dataset to train a logistic regressor that will predict the target variable $y$. \n",
        "\n",
        " 2. Report the harmonic mean of precision (p) and recall (r) i.e the  [metric called $F_1$ score](https://en.wikipedia.org/wiki/F-score) that is calculated as shown below using a test dataset that is 20% of each group. Plot the $F_1$ score vs the iteration number  $t$. \n",
        "\n",
        "$$F_1 = \\frac{2}{r^{-1} + p^{-1}}$$\n",
        "\n",
        "Your code includes hyperparameter optimization of the learning rate and mini batch size. Please learn about cross validation which is a splitting strategy for tuning models [here](https://scikit-learn.org/stable/modules/cross_validation.html).\n",
        "\n",
        "You are allowed to use any library you want to code this problem.\n",
        "\n"
      ]
    },
    {
      "cell_type": "code",
      "execution_count": null,
      "metadata": {
        "id": "zdkyWqXMo177"
      },
      "outputs": [],
      "source": [
        "# write your code here\n"
      ]
    }
  ],
  "metadata": {
    "kernelspec": {
      "display_name": "ai-course",
      "language": "python",
      "name": "python3"
    },
    "language_info": {
      "name": "python",
      "version": "3.10.8"
    },
    "orig_nbformat": 4,
    "vscode": {
      "interpreter": {
        "hash": "62556f7a043365a66e0918c892755cfafede529a87e97207556f006a109bade4"
      }
    },
    "colab": {
      "provenance": [],
      "include_colab_link": true
    }
  },
  "nbformat": 4,
  "nbformat_minor": 0
}